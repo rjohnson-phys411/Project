{
 "metadata": {
  "name": "",
  "signature": "sha256:df6589dae32e9c42d57a60db3a36db75b5dc4d4ed1512d0c3f7c2502274e0119"
 },
 "nbformat": 3,
 "nbformat_minor": 0,
 "worksheets": [
  {
   "cells": [
    {
     "cell_type": "code",
     "collapsed": false,
     "input": [
      "x = Data[0]\n",
      "y = Data[1]\n",
      "z = Data[2]\n",
      "\n",
      "xi = np.linspace(-124.,-123.2,300.)\n",
      "yi = np.linspace(48.3,49,300.)\n",
      "\n",
      "nx = len(xi)\n",
      "ny = len(yi)\n",
      "Zi = np.zeros((ny,nx))\n",
      "for i in range(nx):\n",
      "    for j in range(ny):\n",
      "        w = 1./((xi[i]-x)**2+(yi[j]-y)**2)\n",
      "        w=w/np.sum(w)\n",
      "        Zi[j,i]=np.sum(w*z)    \n",
      "plotCompareInterp(xi,yi,Zi,titl='Inverse Dist Squared')"
     ],
     "language": "python",
     "metadata": {},
     "outputs": []
    },
    {
     "cell_type": "code",
     "collapsed": false,
     "input": [
      "Fontsize=12\n",
      "Labelsize=12\n",
      "Length=10\n",
      "Linewidth=0.5\n",
      "Alpha=0.8\n",
      "\n",
      "\n",
      "fig=plt.figure(figsize=(10,10))\n",
      "ax=fig.add_subplot(1,1,1)\n",
      "\n",
      "ax.plot(StatLat,StatLong,'o',color='r')\n",
      "ax.plot(MapLat,MapLong,'k',label='Vancouver Island',linewidth=Linewidth+0.5,alpha=Alpha)\n",
      "\n",
      "\n",
      "ax.set_xlabel('Latitudes',fontsize=Fontsize)\n",
      "ax.set_ylabel('Longitude',fontsize=Fontsize)\n",
      "\n",
      "ax.set_title('Temperture Map',fontsize=Fontsize+5)\n",
      "\n",
      "fmt=mticker.ScalarFormatter(useOffset=False)\n",
      "fmt.set_scientific(False)\n",
      "ax.xaxis.set_major_formatter(fmt)\n",
      "\n",
      "#ax.grid(which='major', axis='y')\n",
      "#ax.grid(which='both', axis='x')\n",
      "\n",
      "#ax.tick_params(axis='both', which='both', labelsize=Labelsize,length=Length, width=1)\n",
      "#ax.legend(loc=1,fontsize=Fontsize)"
     ],
     "language": "python",
     "metadata": {},
     "outputs": []
    }
   ],
   "metadata": {}
  }
 ]
}