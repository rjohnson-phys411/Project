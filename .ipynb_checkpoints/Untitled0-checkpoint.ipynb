{
 "metadata": {
  "name": "",
  "signature": "sha256:8467b0b43a47f39405953ee0d1f4809feb75f81807b86c036f1288eb26e86cc4"
 },
 "nbformat": 3,
 "nbformat_minor": 0,
 "worksheets": []
}